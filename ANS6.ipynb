{
 "cells": [
  {
   "cell_type": "code",
   "execution_count": 2,
   "metadata": {},
   "outputs": [
    {
     "name": "stdout",
     "output_type": "stream",
     "text": [
      "match between strings :  3\n"
     ]
    }
   ],
   "source": [
    " def match(): \n",
    "    str1='python'\n",
    "    str2='path'\n",
    "    c, j = 0, 0\n",
    "                       \n",
    "    for i in str1:  # loop executes till length of str1 and stores value of str1 character by character \n",
    "                    #in i at each iteration.     \n",
    "        if str2.find(i)>= 0 and j == str1.find(i):#j == str1.find(i)is used to avoid the counting of the duplicate characters   \n",
    "            c += 1\n",
    "        j += 1\n",
    "    \n",
    "\n",
    "    print 'match between strings : ', c \n",
    "  \n",
    "\n",
    " match() \n",
    "  \n",
    " \n"
   ]
  },
  {
   "cell_type": "code",
   "execution_count": null,
   "metadata": {},
   "outputs": [],
   "source": []
  }
 ],
 "metadata": {
  "kernelspec": {
   "display_name": "Python 2",
   "language": "python",
   "name": "python2"
  },
  "language_info": {
   "codemirror_mode": {
    "name": "ipython",
    "version": 2
   },
   "file_extension": ".py",
   "mimetype": "text/x-python",
   "name": "python",
   "nbconvert_exporter": "python",
   "pygments_lexer": "ipython2",
   "version": "2.7.15"
  }
 },
 "nbformat": 4,
 "nbformat_minor": 2
}
