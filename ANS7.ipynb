{
 "cells": [
  {
   "cell_type": "markdown",
   "metadata": {},
   "source": [
    "# Assignment Question 7"
   ]
  },
  {
   "cell_type": "markdown",
   "metadata": {},
   "source": [
    "Write a function called primes that is given a number n and returns a list of the first n primes. Let the default value of n be 100."
   ]
  },
  {
   "cell_type": "code",
   "execution_count": 5,
   "metadata": {},
   "outputs": [
    {
     "name": "stdout",
     "output_type": "stream",
     "text": [
      "Enter the number of prime to be listed27\n"
     ]
    }
   ],
   "source": [
    "n=100\n",
    "list = []\n",
    "count = 0\n",
    "def main():\n",
    "    n = input ('Enter the number of prime to be listed')\n",
    "    primes (n)\n",
    "    for l in range(count):\n",
    "        print list[l]\n",
    "    \n",
    "def primes (n):\n",
    "    i=1\n",
    "    for k in range (1, (n+1), 1):\n",
    "        c=0\n",
    "        for j in range (1, (i+1), 1):\n",
    "            a = i%j\n",
    "            if (a == 0):\n",
    "                c = c+1\n",
    "                \n",
    "        if (c == 2):\n",
    "            list.append(i)\n",
    "            count + 1\n",
    "            \n",
    "        else:\n",
    "            k = k-1\n",
    "           \n",
    "        i = i+1\n",
    "        \n",
    "    return list  \n",
    "        \n",
    "main()        \n",
    "    "
   ]
  },
  {
   "cell_type": "code",
   "execution_count": null,
   "metadata": {},
   "outputs": [],
   "source": []
  }
 ],
 "metadata": {
  "kernelspec": {
   "display_name": "Python 2",
   "language": "python",
   "name": "python2"
  },
  "language_info": {
   "codemirror_mode": {
    "name": "ipython",
    "version": 2
   },
   "file_extension": ".py",
   "mimetype": "text/x-python",
   "name": "python",
   "nbconvert_exporter": "python",
   "pygments_lexer": "ipython2",
   "version": "2.7.15"
  }
 },
 "nbformat": 4,
 "nbformat_minor": 2
}
