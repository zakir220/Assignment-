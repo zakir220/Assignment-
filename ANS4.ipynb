{
 "cells": [
  {
   "cell_type": "code",
   "execution_count": 31,
   "metadata": {},
   "outputs": [
    {
     "data": {
      "text/plain": [
       "1"
      ]
     },
     "execution_count": 31,
     "metadata": {},
     "output_type": "execute_result"
    }
   ],
   "source": [
    "\n",
    "import math  \n",
    "  \n",
    "def digi_Root(n): \n",
    "   \n",
    "    \n",
    "    sum = 0\n",
    "    \n",
    "    \n",
    "    while(n > 0 or sum > 9): \n",
    "        if(n == 0): \n",
    "            n = sum\n",
    "            sum = 0\n",
    "          \n",
    "        sum += n % 10\n",
    "        n /= 10 \n",
    "      \n",
    "    return sum\n",
    "\n",
    "digi_Root(1234)"
   ]
  },
  {
   "cell_type": "code",
   "execution_count": null,
   "metadata": {},
   "outputs": [],
   "source": []
  },
  {
   "cell_type": "code",
   "execution_count": null,
   "metadata": {},
   "outputs": [],
   "source": []
  }
 ],
 "metadata": {
  "kernelspec": {
   "display_name": "Python 2",
   "language": "python",
   "name": "python2"
  },
  "language_info": {
   "codemirror_mode": {
    "name": "ipython",
    "version": 2
   },
   "file_extension": ".py",
   "mimetype": "text/x-python",
   "name": "python",
   "nbconvert_exporter": "python",
   "pygments_lexer": "ipython2",
   "version": "2.7.15"
  }
 },
 "nbformat": 4,
 "nbformat_minor": 2
}
